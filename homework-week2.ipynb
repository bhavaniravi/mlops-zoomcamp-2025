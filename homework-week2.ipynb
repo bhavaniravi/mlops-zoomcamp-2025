{
 "cells": [
  {
   "cell_type": "markdown",
   "id": "96a970f6-400a-41d5-b527-903568264f9c",
   "metadata": {},
   "source": [
    "# MLOps Zoomcamp - Week 2\n",
    "\n",
    "https://github.com/DataTalksClub/mlops-zoomcamp/blob/main/cohorts/2025/02-experiment-tracking/homework.md"
   ]
  },
  {
   "cell_type": "code",
   "execution_count": 4,
   "id": "5cf28422-b400-41e4-b25f-7507de6f77e4",
   "metadata": {},
   "outputs": [],
   "source": [
    "import os"
   ]
  },
  {
   "cell_type": "code",
   "execution_count": null,
   "id": "65aa9670-9340-47b9-8d84-ba6c02682bca",
   "metadata": {},
   "outputs": [],
   "source": []
  },
  {
   "cell_type": "code",
   "execution_count": null,
   "id": "d76152c1-d7db-4cbd-ac3e-091621dc5439",
   "metadata": {},
   "outputs": [],
   "source": []
  },
  {
   "cell_type": "markdown",
   "id": "f5bebcd0-26fe-4ffb-bcc5-b2d6c66443d2",
   "metadata": {},
   "source": [
    "## 1. Install MLflow"
   ]
  },
  {
   "cell_type": "code",
   "execution_count": 3,
   "id": "0a6e7acf-5f62-4edb-a8e1-5b4f2a8ae7ac",
   "metadata": {},
   "outputs": [
    {
     "name": "stdout",
     "output_type": "stream",
     "text": [
      "mlflow, version 2.20.4\n"
     ]
    }
   ],
   "source": [
    "!uv run mlflow --version"
   ]
  },
  {
   "cell_type": "markdown",
   "id": "cefa7625-879f-4138-b114-def1d1d326c2",
   "metadata": {},
   "source": [
    "## 2. Download and preprocess the data"
   ]
  },
  {
   "cell_type": "code",
   "execution_count": 6,
   "id": "482a55bf-2d35-4f05-bcb9-59b5b2042938",
   "metadata": {},
   "outputs": [],
   "source": [
    "path = 'week2/output'"
   ]
  },
  {
   "cell_type": "code",
   "execution_count": 7,
   "id": "14bc7907-582e-4c38-9e5f-0b5c10f2c534",
   "metadata": {},
   "outputs": [
    {
     "data": {
      "text/plain": [
       "['train.pkl', 'val.pkl', 'dv.pkl', 'test.pkl']"
      ]
     },
     "execution_count": 7,
     "metadata": {},
     "output_type": "execute_result"
    }
   ],
   "source": [
    "os.listdir(path)"
   ]
  },
  {
   "cell_type": "code",
   "execution_count": 8,
   "id": "a0922480-1731-4092-b04e-96f321702110",
   "metadata": {},
   "outputs": [
    {
     "data": {
      "text/plain": [
       "4"
      ]
     },
     "execution_count": 8,
     "metadata": {},
     "output_type": "execute_result"
    }
   ],
   "source": [
    "len(os.listdir(path))"
   ]
  },
  {
   "cell_type": "markdown",
   "id": "aa62a413-ecb8-4f32-a706-7525b8feec05",
   "metadata": {},
   "source": [
    "## 3. Train a model with autolog"
   ]
  },
  {
   "cell_type": "code",
   "execution_count": null,
   "id": "c8cccb3e-016e-4660-ae38-dfebd1eccf0b",
   "metadata": {},
   "outputs": [],
   "source": [
    "!python train.py"
   ]
  },
  {
   "cell_type": "markdown",
   "id": "5eaa3e18-88ab-4a97-b12e-29a38a9aadc0",
   "metadata": {},
   "source": [
    "![week2](./week2/assets/image.png)"
   ]
  },
  {
   "cell_type": "markdown",
   "id": "9235891f-570f-441b-b47e-47cd510cd113",
   "metadata": {},
   "source": [
    "## 4. Launch the tracking server locally"
   ]
  },
  {
   "cell_type": "code",
   "execution_count": null,
   "id": "7aa2f751-c708-4448-8997-04baf8595409",
   "metadata": {},
   "outputs": [],
   "source": [
    "!mlflow server --backend-store-uri sqlite:///data/backend.db --artifacts-destination data/artifacts"
   ]
  },
  {
   "cell_type": "markdown",
   "id": "08ebf28b-4c71-41f8-a11e-df32ec07d252",
   "metadata": {},
   "source": [
    "## 5. Tune model hyperparameters"
   ]
  },
  {
   "cell_type": "code",
   "execution_count": 8,
   "id": "3649e3e1-a5ee-4ec2-9510-0522215390cd",
   "metadata": {},
   "outputs": [
    {
     "name": "stdout",
     "output_type": "stream",
     "text": [
      "🏃 View run tasteful-bug-531 at: http://127.0.0.1:5000/#/experiments/1/runs/5984bc50b6d14f588fa184f1b483a341\n",
      "\n",
      "🧪 View experiment at: http://127.0.0.1:5000/#/experiments/1                    \n",
      "\n",
      "🏃 View run bouncy-shark-826 at: http://127.0.0.1:5000/#/experiments/1/runs/1dc86edded5f46a4a5612d70b06018c1\n",
      "\n",
      "🧪 View experiment at: http://127.0.0.1:5000/#/experiments/1                    \n",
      "\n",
      "🏃 View run wistful-frog-108 at: http://127.0.0.1:5000/#/experiments/1/runs/575855c6ce484b1ca4603cd973378f71\n",
      "\n",
      "🧪 View experiment at: http://127.0.0.1:5000/#/experiments/1                    \n",
      "\n",
      "🏃 View run worried-fawn-127 at: http://127.0.0.1:5000/#/experiments/1/runs/63193e0d652a4a828eb66dc541deeb29\n",
      "\n",
      "🧪 View experiment at: http://127.0.0.1:5000/#/experiments/1                    \n",
      "\n",
      "🏃 View run adorable-shoat-960 at: http://127.0.0.1:5000/#/experiments/1/runs/d81c00f612d042368ad86ed060e5271c\n",
      "\n",
      "🧪 View experiment at: http://127.0.0.1:5000/#/experiments/1                    \n",
      "\n",
      "🏃 View run nimble-slug-411 at: http://127.0.0.1:5000/#/experiments/1/runs/a048a4a48f2a454393c748e9c766df67\n",
      "\n",
      "🧪 View experiment at: http://127.0.0.1:5000/#/experiments/1                    \n",
      "\n",
      "🏃 View run spiffy-jay-263 at: http://127.0.0.1:5000/#/experiments/1/runs/0317e899889446f4898ff10066630b7d\n",
      "\n",
      "🧪 View experiment at: http://127.0.0.1:5000/#/experiments/1                    \n",
      "\n",
      "🏃 View run fun-skunk-751 at: http://127.0.0.1:5000/#/experiments/1/runs/dfd79573c51f48838bb86f9b84ee444b\n",
      "\n",
      "🧪 View experiment at: http://127.0.0.1:5000/#/experiments/1                    \n",
      "\n",
      "🏃 View run stately-lynx-15 at: http://127.0.0.1:5000/#/experiments/1/runs/c0ebb63db71747acaa59433a2dc3eaaf\n",
      "\n",
      "🧪 View experiment at: http://127.0.0.1:5000/#/experiments/1                    \n",
      "\n",
      "🏃 View run worried-bird-450 at: http://127.0.0.1:5000/#/experiments/1/runs/eb504a026aac457abb3905b2077672f6\n",
      "\n",
      "🧪 View experiment at: http://127.0.0.1:5000/#/experiments/1                    \n",
      "\n",
      "🏃 View run whimsical-horse-480 at: http://127.0.0.1:5000/#/experiments/1/runs/f8973947b281404eab585253495b1275\n",
      "\n",
      "🧪 View experiment at: http://127.0.0.1:5000/#/experiments/1                    \n",
      "\n",
      "🏃 View run chill-dove-567 at: http://127.0.0.1:5000/#/experiments/1/runs/e24622810e8a440880a4da25fb2987d1\n",
      "\n",
      "🧪 View experiment at: http://127.0.0.1:5000/#/experiments/1                    \n",
      "\n",
      "🏃 View run kindly-crow-811 at: http://127.0.0.1:5000/#/experiments/1/runs/393521c3fe954ce1b534469aa8ba2368\n",
      "\n",
      "🧪 View experiment at: http://127.0.0.1:5000/#/experiments/1                    \n",
      "\n",
      "🏃 View run marvelous-seal-363 at: http://127.0.0.1:5000/#/experiments/1/runs/ec3138b6f27e45d4bfa4ff0b2a740fe9\n",
      "\n",
      "🧪 View experiment at: http://127.0.0.1:5000/#/experiments/1                    \n",
      "\n",
      "🏃 View run dapper-calf-288 at: http://127.0.0.1:5000/#/experiments/1/runs/b414f2b7a03740209b7564245e381f00\n",
      "\n",
      "🧪 View experiment at: http://127.0.0.1:5000/#/experiments/1                    \n",
      "\n",
      "100%|██████████| 15/15 [00:20<00:00,  1.40s/trial, best loss: 5.335419588556921]\n",
      "[<Run: data=<RunData: metrics={'rmse': 5.335419588556921}, params={'max_depth': '19',\n",
      " 'min_samples_leaf': '2',\n",
      " 'min_samples_split': '2',\n",
      " 'n_estimators': '11',\n",
      " 'random_state': '42'}, tags={'mlflow.runName': 'whimsical-horse-480',\n",
      " 'mlflow.source.git.commit': 'aa513cd5ebef9d6d10f391b74f3ff51bad74ab07',\n",
      " 'mlflow.source.name': 'hpo.py',\n",
      " 'mlflow.source.type': 'LOCAL',\n",
      " 'mlflow.user': 'bhavaniravi'}>, info=<RunInfo: artifact_uri='mlflow-artifacts:/1/f8973947b281404eab585253495b1275/artifacts', end_time=1747669050826, experiment_id='1', lifecycle_stage='active', run_id='f8973947b281404eab585253495b1275', run_name='whimsical-horse-480', run_uuid='f8973947b281404eab585253495b1275', start_time=1747669049709, status='FINISHED', user_id='bhavaniravi'>, inputs=<RunInputs: dataset_inputs=[]>>]\n"
     ]
    }
   ],
   "source": [
    "!cd week2 && python hpo.py"
   ]
  },
  {
   "cell_type": "markdown",
   "id": "9e893693-2974-4b82-b13d-19076cf3944a",
   "metadata": {},
   "source": [
    "## 6. Promote the best model to the model registry"
   ]
  },
  {
   "cell_type": "code",
   "execution_count": 11,
   "id": "0955af0b-5d07-4753-8756-3c9a0a679d78",
   "metadata": {},
   "outputs": [
    {
     "name": "stdout",
     "output_type": "stream",
     "text": [
      "<RunData: metrics={'test_rmse': 5.567408012462019,\n",
      " 'training_mean_absolute_error': 3.23365652419934,\n",
      " 'training_mean_squared_error': 24.785660360279664,\n",
      " 'training_r2_score': 0.6956122194293166,\n",
      " 'training_root_mean_squared_error': 4.978519896543516,\n",
      " 'training_score': 0.6956122194293166,\n",
      " 'val_rmse': 5.335419588556921}, params={'bootstrap': 'True',\n",
      " 'ccp_alpha': '0.0',\n",
      " 'criterion': 'squared_error',\n",
      " 'max_depth': '19',\n",
      " 'max_features': '1.0',\n",
      " 'max_leaf_nodes': 'None',\n",
      " 'max_samples': 'None',\n",
      " 'min_impurity_decrease': '0.0',\n",
      " 'min_samples_leaf': '2',\n",
      " 'min_samples_split': '2',\n",
      " 'min_weight_fraction_leaf': '0.0',\n",
      " 'monotonic_cst': 'None',\n",
      " 'n_estimators': '11',\n",
      " 'n_jobs': 'None',\n",
      " 'oob_score': 'False',\n",
      " 'random_state': '42',\n",
      " 'verbose': '0',\n",
      " 'warm_start': 'False'}, tags={'estimator_class': 'sklearn.ensemble._forest.RandomForestRegressor',\n",
      " 'estimator_name': 'RandomForestRegressor',\n",
      " 'mlflow.log-model.history': '[{\"run_id\": \"c28a35bc46db4d44aaf6ae974118ca49\", '\n",
      "                             '\"artifact_path\": \"model\", \"utc_time_created\": '\n",
      "                             '\"2025-05-19 15:40:21.612037\", \"model_uuid\": '\n",
      "                             '\"0aae53bb3f5b480790c1f2841e1258ae\", \"flavors\": '\n",
      "                             '{\"python_function\": {\"model_path\": \"model.pkl\", '\n",
      "                             '\"predict_fn\": \"predict\", \"loader_module\": '\n",
      "                             '\"mlflow.sklearn\", \"python_version\": \"3.12.10\", '\n",
      "                             '\"env\": {\"conda\": \"conda.yaml\", \"virtualenv\": '\n",
      "                             '\"python_env.yaml\"}}, \"sklearn\": '\n",
      "                             '{\"pickled_model\": \"model.pkl\", '\n",
      "                             '\"sklearn_version\": \"1.6.1\", '\n",
      "                             '\"serialization_format\": \"cloudpickle\", \"code\": '\n",
      "                             'null}}}]',\n",
      " 'mlflow.runName': 'amusing-fish-291',\n",
      " 'mlflow.source.git.commit': 'aa513cd5ebef9d6d10f391b74f3ff51bad74ab07',\n",
      " 'mlflow.source.name': 'register_model.py',\n",
      " 'mlflow.source.type': 'LOCAL',\n",
      " 'mlflow.user': 'bhavaniravi'}>\n",
      "Registered model 'best-fit-model' already exists. Creating a new version of this model...\n",
      "2025/05/19 21:11:57 INFO mlflow.store.model_registry.abstract_store: Waiting up to 300 seconds for model version to finish creation. Model name: best-fit-model, version 3\n",
      "Created version '3' of model 'best-fit-model'.\n"
     ]
    }
   ],
   "source": [
    "!cd week2 && python register_model.py"
   ]
  },
  {
   "cell_type": "code",
   "execution_count": null,
   "id": "8435c528-0baf-4d93-911f-45b46244dc45",
   "metadata": {},
   "outputs": [],
   "source": []
  },
  {
   "cell_type": "code",
   "execution_count": null,
   "id": "00d2be85-098e-4d94-b08b-158f381fd0fb",
   "metadata": {},
   "outputs": [],
   "source": []
  }
 ],
 "metadata": {
  "kernelspec": {
   "display_name": "mlops-zoomcamp",
   "language": "python",
   "name": "venv"
  },
  "language_info": {
   "codemirror_mode": {
    "name": "ipython",
    "version": 3
   },
   "file_extension": ".py",
   "mimetype": "text/x-python",
   "name": "python",
   "nbconvert_exporter": "python",
   "pygments_lexer": "ipython3",
   "version": "3.12.10"
  }
 },
 "nbformat": 4,
 "nbformat_minor": 5
}
