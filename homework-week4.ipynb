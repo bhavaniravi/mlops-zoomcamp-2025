{
 "cells": [
  {
   "cell_type": "code",
   "execution_count": 4,
   "id": "a8a60d69-d1fe-451d-82a6-befb2be297b8",
   "metadata": {},
   "outputs": [
    {
     "name": "stdout",
     "output_type": "stream",
     "text": [
      "Requirement already satisfied: scikit-learn==1.5.0 in /Users/bhavaniravi/learn/mlops-zoomcamp/.venv/lib/python3.12/site-packages (1.5.0)\n",
      "Requirement already satisfied: numpy>=1.19.5 in /Users/bhavaniravi/learn/mlops-zoomcamp/.venv/lib/python3.12/site-packages (from scikit-learn==1.5.0) (2.2.5)\n",
      "Requirement already satisfied: scipy>=1.6.0 in /Users/bhavaniravi/learn/mlops-zoomcamp/.venv/lib/python3.12/site-packages (from scikit-learn==1.5.0) (1.15.3)\n",
      "Requirement already satisfied: joblib>=1.2.0 in /Users/bhavaniravi/learn/mlops-zoomcamp/.venv/lib/python3.12/site-packages (from scikit-learn==1.5.0) (1.5.0)\n",
      "Requirement already satisfied: threadpoolctl>=3.1.0 in /Users/bhavaniravi/learn/mlops-zoomcamp/.venv/lib/python3.12/site-packages (from scikit-learn==1.5.0) (3.6.0)\n"
     ]
    }
   ],
   "source": [
    "!python -m pip install scikit-learn==1.5.0"
   ]
  },
  {
   "cell_type": "code",
   "execution_count": 5,
   "id": "8dee2d37-9d39-487b-86c7-bac459be291d",
   "metadata": {},
   "outputs": [],
   "source": [
    "import pickle\n",
    "import pandas as pd"
   ]
  },
  {
   "cell_type": "code",
   "execution_count": 6,
   "id": "6556418d-c48a-427a-be19-bef3f3ad4c81",
   "metadata": {},
   "outputs": [],
   "source": [
    "with open('week4/model.bin', 'rb') as f_in:\n",
    "    dv, model = pickle.load(f_in)"
   ]
  },
  {
   "cell_type": "code",
   "execution_count": 7,
   "id": "72fe2a44-216a-4428-9e66-e3ae3714ac43",
   "metadata": {},
   "outputs": [],
   "source": [
    "categorical = ['PULocationID', 'DOLocationID']\n",
    "\n",
    "def read_data(filename):\n",
    "    df = pd.read_parquet(filename)\n",
    "    \n",
    "    df['duration'] = df.tpep_dropoff_datetime - df.tpep_pickup_datetime\n",
    "    df['duration'] = df.duration.dt.total_seconds() / 60\n",
    "\n",
    "    df = df[(df.duration >= 1) & (df.duration <= 60)].copy()\n",
    "\n",
    "    df[categorical] = df[categorical].fillna(-1).astype('int').astype('str')\n",
    "    \n",
    "    return df"
   ]
  },
  {
   "cell_type": "code",
   "execution_count": 8,
   "id": "6a244735-757f-4788-b94a-41858bcdb095",
   "metadata": {},
   "outputs": [],
   "source": [
    "df = read_data('https://d37ci6vzurychx.cloudfront.net/trip-data/yellow_tripdata_2023-03.parquet')"
   ]
  },
  {
   "cell_type": "code",
   "execution_count": 9,
   "id": "b3dfe7a4-9659-4740-a778-b1a96c3f74ba",
   "metadata": {},
   "outputs": [],
   "source": [
    "dicts = df[categorical].to_dict(orient='records')\n",
    "X_val = dv.transform(dicts)\n",
    "y_pred = model.predict(X_val)"
   ]
  },
  {
   "cell_type": "markdown",
   "id": "2b934dae-a43c-403e-a481-f9dbf56db049",
   "metadata": {},
   "source": [
    "### What's the standard deviation of the predicted duration for this dataset?"
   ]
  },
  {
   "cell_type": "code",
   "execution_count": 10,
   "id": "310e4fe8-f013-4910-af27-c8cc2ca5e0ab",
   "metadata": {},
   "outputs": [
    {
     "data": {
      "text/plain": [
       "np.float64(6.247488852238703)"
      ]
     },
     "execution_count": 10,
     "metadata": {},
     "output_type": "execute_result"
    }
   ],
   "source": [
    "y_pred.std()"
   ]
  },
  {
   "cell_type": "markdown",
   "id": "c4c2b90c-a332-4a5d-a46e-90bd31f5d5bf",
   "metadata": {},
   "source": [
    "### 2. Preparing the output"
   ]
  },
  {
   "cell_type": "code",
   "execution_count": 11,
   "id": "d347a8d2-235d-46a1-9297-1d7d0acfec82",
   "metadata": {},
   "outputs": [],
   "source": [
    "year = 2023\n",
    "month = 3"
   ]
  },
  {
   "cell_type": "code",
   "execution_count": 12,
   "id": "2e4fc5e6-09c2-417c-8410-0a6f181901ed",
   "metadata": {},
   "outputs": [],
   "source": [
    "df['ride_id'] = f'{year:04d}/{month:02d}_' + df.index.astype('str')"
   ]
  },
  {
   "cell_type": "code",
   "execution_count": 13,
   "id": "debb658f-6288-4df5-9ae5-65ba63eda001",
   "metadata": {},
   "outputs": [],
   "source": [
    "df_result = df[['ride_id']].assign(y_pred=y_pred)"
   ]
  },
  {
   "cell_type": "code",
   "execution_count": 14,
   "id": "6c56e180-b004-47d2-a079-104c8d77cff7",
   "metadata": {},
   "outputs": [
    {
     "data": {
      "text/html": [
       "<div>\n",
       "<style scoped>\n",
       "    .dataframe tbody tr th:only-of-type {\n",
       "        vertical-align: middle;\n",
       "    }\n",
       "\n",
       "    .dataframe tbody tr th {\n",
       "        vertical-align: top;\n",
       "    }\n",
       "\n",
       "    .dataframe thead th {\n",
       "        text-align: right;\n",
       "    }\n",
       "</style>\n",
       "<table border=\"1\" class=\"dataframe\">\n",
       "  <thead>\n",
       "    <tr style=\"text-align: right;\">\n",
       "      <th></th>\n",
       "      <th>ride_id</th>\n",
       "      <th>y_pred</th>\n",
       "    </tr>\n",
       "  </thead>\n",
       "  <tbody>\n",
       "    <tr>\n",
       "      <th>0</th>\n",
       "      <td>2023/03_0</td>\n",
       "      <td>16.245906</td>\n",
       "    </tr>\n",
       "    <tr>\n",
       "      <th>1</th>\n",
       "      <td>2023/03_1</td>\n",
       "      <td>26.134796</td>\n",
       "    </tr>\n",
       "    <tr>\n",
       "      <th>2</th>\n",
       "      <td>2023/03_2</td>\n",
       "      <td>11.884264</td>\n",
       "    </tr>\n",
       "    <tr>\n",
       "      <th>3</th>\n",
       "      <td>2023/03_3</td>\n",
       "      <td>11.997720</td>\n",
       "    </tr>\n",
       "    <tr>\n",
       "      <th>4</th>\n",
       "      <td>2023/03_4</td>\n",
       "      <td>10.234486</td>\n",
       "    </tr>\n",
       "    <tr>\n",
       "      <th>...</th>\n",
       "      <td>...</td>\n",
       "      <td>...</td>\n",
       "    </tr>\n",
       "    <tr>\n",
       "      <th>3403761</th>\n",
       "      <td>2023/03_3403761</td>\n",
       "      <td>11.952635</td>\n",
       "    </tr>\n",
       "    <tr>\n",
       "      <th>3403762</th>\n",
       "      <td>2023/03_3403762</td>\n",
       "      <td>20.049958</td>\n",
       "    </tr>\n",
       "    <tr>\n",
       "      <th>3403763</th>\n",
       "      <td>2023/03_3403763</td>\n",
       "      <td>11.595336</td>\n",
       "    </tr>\n",
       "    <tr>\n",
       "      <th>3403764</th>\n",
       "      <td>2023/03_3403764</td>\n",
       "      <td>13.113178</td>\n",
       "    </tr>\n",
       "    <tr>\n",
       "      <th>3403765</th>\n",
       "      <td>2023/03_3403765</td>\n",
       "      <td>12.899992</td>\n",
       "    </tr>\n",
       "  </tbody>\n",
       "</table>\n",
       "<p>3316216 rows × 2 columns</p>\n",
       "</div>"
      ],
      "text/plain": [
       "                 ride_id     y_pred\n",
       "0              2023/03_0  16.245906\n",
       "1              2023/03_1  26.134796\n",
       "2              2023/03_2  11.884264\n",
       "3              2023/03_3  11.997720\n",
       "4              2023/03_4  10.234486\n",
       "...                  ...        ...\n",
       "3403761  2023/03_3403761  11.952635\n",
       "3403762  2023/03_3403762  20.049958\n",
       "3403763  2023/03_3403763  11.595336\n",
       "3403764  2023/03_3403764  13.113178\n",
       "3403765  2023/03_3403765  12.899992\n",
       "\n",
       "[3316216 rows x 2 columns]"
      ]
     },
     "execution_count": 14,
     "metadata": {},
     "output_type": "execute_result"
    }
   ],
   "source": [
    "df_result"
   ]
  },
  {
   "cell_type": "code",
   "execution_count": 15,
   "id": "706795f4-3f5a-469c-b7fb-3c4d7691e6d4",
   "metadata": {},
   "outputs": [],
   "source": [
    "output_file = 'data/week4_result_file.parquet'\n",
    "df_result.to_parquet(\n",
    "    output_file,\n",
    "    engine='pyarrow',\n",
    "    compression=None,\n",
    "    index=False\n",
    ")"
   ]
  },
  {
   "cell_type": "markdown",
   "id": "a3ce04d1-7a26-44e7-84d0-538093024a58",
   "metadata": {},
   "source": [
    "### 3. Convert to script"
   ]
  },
  {
   "cell_type": "code",
   "execution_count": 47,
   "id": "62b1b40f-afce-4a45-a7c3-d34c9298a718",
   "metadata": {},
   "outputs": [
    {
     "name": "stdout",
     "output_type": "stream",
     "text": [
      "[NbConvertApp] Converting notebook homework-week4.ipynb to script\n",
      "[NbConvertApp] Writing 1419 bytes to homework-week4.py\n"
     ]
    }
   ],
   "source": [
    "!jupyter nbconvert homework-week4.ipynb --to script\n"
   ]
  },
  {
   "cell_type": "markdown",
   "id": "18203a1c-855d-4dd0-abf5-b15cfa9c32bf",
   "metadata": {},
   "source": [
    "### 4. Hash of sklearn dependency"
   ]
  },
  {
   "cell_type": "code",
   "execution_count": 1,
   "id": "d95d0974-a0c0-4c7d-ad88-e487670e004b",
   "metadata": {},
   "outputs": [],
   "source": [
    "import json"
   ]
  },
  {
   "cell_type": "code",
   "execution_count": 2,
   "id": "60f37dc1-05ad-4bfe-87fe-4be7305e939f",
   "metadata": {},
   "outputs": [
    {
     "name": "stdout",
     "output_type": "stream",
     "text": [
      "sha256:057b991ac64b3e75c9c04b5f9395eaf19a6179244c089afdebaad98264bff37c\n"
     ]
    }
   ],
   "source": [
    "with open('week4/Pipfile.lock') as f:\n",
    "    j = json.loads(f.read())\n",
    "    print (j['default']['scikit-learn']['hashes'][0])"
   ]
  },
  {
   "cell_type": "markdown",
   "id": "509d420f-8a15-47b0-8eb9-954eef0b5d55",
   "metadata": {},
   "source": [
    "### 5. Parametize the script"
   ]
  },
  {
   "cell_type": "code",
   "execution_count": 2,
   "id": "f27d1ba4-4202-446d-9a8b-37a6994d095c",
   "metadata": {},
   "outputs": [
    {
     "name": "stdout",
     "output_type": "stream",
     "text": [
      "https://d37ci6vzurychx.cloudfront.net/trip-data/yellow_tripdata_2023-04.parquet\n",
      "std deviation= 6.353996941249663\n",
      "mean =  14.292282936862449\n"
     ]
    }
   ],
   "source": [
    "!python week4/homework-week4.py 4 2023"
   ]
  },
  {
   "cell_type": "markdown",
   "id": "bcf26ed3-a9d6-47c3-883e-2ad0af8debe4",
   "metadata": {},
   "source": [
    "### 6. Docker container"
   ]
  },
  {
   "cell_type": "code",
   "execution_count": 17,
   "id": "6e5be74b-e7f3-464d-a790-ddd8f4870a84",
   "metadata": {},
   "outputs": [
    {
     "name": "stdout",
     "output_type": "stream",
     "text": [
      "https://d37ci6vzurychx.cloudfront.net/trip-data/yellow_tripdata_2023-05.parquet\n",
      "std deviation= 1.3881399472264797\n",
      "mean =  0.19174419265916945\n"
     ]
    }
   ],
   "source": [
    "!docker run --platform=linux/amd64 week4-job 05 2023"
   ]
  }
 ],
 "metadata": {
  "kernelspec": {
   "display_name": "mlops-zoomcamp",
   "language": "python",
   "name": "mlops-zoomcamp"
  },
  "language_info": {
   "codemirror_mode": {
    "name": "ipython",
    "version": 3
   },
   "file_extension": ".py",
   "mimetype": "text/x-python",
   "name": "python",
   "nbconvert_exporter": "python",
   "pygments_lexer": "ipython3",
   "version": "3.12.10"
  }
 },
 "nbformat": 4,
 "nbformat_minor": 5
}
