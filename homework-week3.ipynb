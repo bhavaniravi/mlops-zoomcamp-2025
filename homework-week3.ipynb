{
 "cells": [
  {
   "cell_type": "markdown",
   "id": "429cfed8-7d50-4ad1-9b31-1519452776e8",
   "metadata": {},
   "source": [
    "# Homework Week 3"
   ]
  },
  {
   "cell_type": "markdown",
   "id": "11afb224-0bcf-4f51-86af-83062b6c851f",
   "metadata": {},
   "source": [
    "## 1 & 2 :Prefect & Version"
   ]
  },
  {
   "cell_type": "code",
   "execution_count": 2,
   "id": "45b3aaaa-161f-4298-98af-06d7b2afa97e",
   "metadata": {},
   "outputs": [
    {
     "name": "stdout",
     "output_type": "stream",
     "text": [
      "Version:             3.2.14\n",
      "API version:         0.8.4\n",
      "Python version:      3.12.9\n",
      "Git commit:          efcde6dc\n",
      "Built:               Fri, Mar 21, 2025 5:28 PM\n",
      "OS/Arch:             darwin/arm64\n",
      "Profile:             local\n",
      "Server type:         ephemeral\n",
      "Pydantic version:    2.10.6\n",
      "Server:\n",
      "  Database:          sqlite\n",
      "  SQLite version:    3.43.2\n"
     ]
    }
   ],
   "source": [
    "!prefect version"
   ]
  },
  {
   "cell_type": "markdown",
   "id": "cef9ce6f-5a2a-41c2-9564-5652e99dccae",
   "metadata": {},
   "source": [
    "## 3. Size of Df"
   ]
  },
  {
   "cell_type": "code",
   "execution_count": 5,
   "id": "b2cb0780-3dd9-4bee-b4b8-92ea83dbe675",
   "metadata": {},
   "outputs": [],
   "source": [
    "import pandas as pd"
   ]
  },
  {
   "cell_type": "code",
   "execution_count": 6,
   "id": "13468ef9-1120-4802-b2a9-070a435af6d7",
   "metadata": {},
   "outputs": [],
   "source": [
    "file_path = 'week3/data/yellow_tripdata_2023-03.parquet'"
   ]
  },
  {
   "cell_type": "code",
   "execution_count": 7,
   "id": "9fcc0966-1762-430b-b5d8-ed6502a0d6aa",
   "metadata": {},
   "outputs": [],
   "source": [
    "df = pd.read_parquet(file_path)"
   ]
  },
  {
   "cell_type": "code",
   "execution_count": 9,
   "id": "fdf9c161-deba-493d-944f-8ebdf474e555",
   "metadata": {},
   "outputs": [
    {
     "data": {
      "text/plain": [
       "(3403766, 19)"
      ]
     },
     "execution_count": 9,
     "metadata": {},
     "output_type": "execute_result"
    }
   ],
   "source": [
    "df.shape"
   ]
  },
  {
   "cell_type": "markdown",
   "id": "85ec8d40-4141-4907-b716-f6d478b6b391",
   "metadata": {},
   "source": [
    "## 4. Data Preprocessing"
   ]
  },
  {
   "cell_type": "code",
   "execution_count": 10,
   "id": "5a6012e0-7549-450b-b459-29b6ed43c59e",
   "metadata": {},
   "outputs": [],
   "source": [
    "def read_dataframe(filename):\n",
    "    df = pd.read_parquet(filename)\n",
    "\n",
    "    df['duration'] = df.tpep_dropoff_datetime - df.tpep_pickup_datetime\n",
    "    df.duration = df.duration.dt.total_seconds() / 60\n",
    "\n",
    "    df = df[(df.duration >= 1) & (df.duration <= 60)]\n",
    "\n",
    "    categorical = ['PULocationID', 'DOLocationID']\n",
    "    df[categorical] = df[categorical].astype(str)\n",
    "    \n",
    "    return df"
   ]
  },
  {
   "cell_type": "code",
   "execution_count": 11,
   "id": "cb1b8780-0c88-40ed-801b-0efc77b613ce",
   "metadata": {},
   "outputs": [],
   "source": [
    "df = read_dataframe(file_path)"
   ]
  },
  {
   "cell_type": "code",
   "execution_count": 12,
   "id": "9f728fc4-ecbf-4483-9c43-960d2fe7e3f7",
   "metadata": {},
   "outputs": [
    {
     "data": {
      "text/plain": [
       "(3316216, 20)"
      ]
     },
     "execution_count": 12,
     "metadata": {},
     "output_type": "execute_result"
    }
   ],
   "source": [
    "df.shape"
   ]
  },
  {
   "cell_type": "markdown",
   "id": "7499487f-bc9e-4a09-bd0d-0a0b46cedb9c",
   "metadata": {},
   "source": [
    "## 5. Pipeline"
   ]
  },
  {
   "cell_type": "markdown",
   "id": "4be8e0e3-c238-4c0e-ad55-4d26c61960c5",
   "metadata": {},
   "source": [
    "Used prefect to create a workflow"
   ]
  },
  {
   "cell_type": "code",
   "execution_count": 13,
   "id": "519a2e83-b55c-4c11-a128-d2f127f936cc",
   "metadata": {},
   "outputs": [
    {
     "name": "stdout",
     "output_type": "stream",
     "text": [
      "#!/usr/bin/env python\n",
      "# coding: utf-8\n",
      "\n",
      "import pickle\n",
      "from pathlib import Path\n",
      "\n",
      "import pandas as pd\n",
      "\n",
      "from sklearn.feature_extraction import DictVectorizer\n",
      "from sklearn.linear_model import LinearRegression\n",
      "from sklearn.metrics import root_mean_squared_error\n",
      "from prefect import flow, task\n",
      "import mlflow\n",
      "\n",
      "mlflow.set_tracking_uri(\"http://127.0.0.1:5000\")\n",
      "mlflow.set_experiment(\"nyc-taxi-experiment\")\n",
      "\n",
      "models_folder = Path('models')\n",
      "models_folder.mkdir(exist_ok=True)\n",
      "\n",
      "\n",
      "@task\n",
      "def read_dataframe(year, month):\n",
      "    url = f'https://d37ci6vzurychx.cloudfront.net/trip-data/yellow_tripdata_{year}-{month:02d}.parquet'\n",
      "    print (\"reading from :: \", url)\n",
      "    return read_dataframe_with_path(url)\n",
      "\n",
      "\n",
      "def read_dataframe_with_path(filename):\n",
      "    df = pd.read_parquet(filename)\n",
      "\n",
      "    df['duration'] = df.tpep_dropoff_datetime - df.tpep_pickup_datetime\n",
      "    df.duration = df.duration.dt.total_seconds() / 60\n",
      "\n",
      "    df = df[(df.duration >= 1) & (df.duration <= 60)]\n",
      "\n",
      "    categorical = ['PULocationID', 'DOLocationID']\n",
      "    df[categorical] = df[categorical].astype(str)\n",
      "    \n",
      "    return df\n",
      "\n",
      "@task\n",
      "def create_X(df, dv=None):\n",
      "    categorical = ['PULocationID', 'DOLocationID']\n",
      "    # numerical = ['trip_distance']\n",
      "    dicts = df[categorical].to_dict(orient='records')\n",
      "\n",
      "    if dv is None:\n",
      "        dv = DictVectorizer(sparse=True)\n",
      "        X = dv.fit_transform(dicts)\n",
      "    else:\n",
      "        X = dv.transform(dicts)\n",
      "\n",
      "    return X, dv\n",
      "\n",
      "\n",
      "@task\n",
      "def train_model(X_train, y_train, X_val, y_val, dv):\n",
      "    with mlflow.start_run() as run:\n",
      "        lr = LinearRegression()\n",
      "        lr.fit(X_train, y_train)\n",
      "        print (lr.intercept_)\n",
      "        y_pred = lr.predict(X_val)\n",
      "\n",
      "\n",
      "        rmse = root_mean_squared_error(y_val, y_pred)\n",
      "        mlflow.log_metric(\"rmse\", rmse)\n",
      "        mlflow.log_param(\"model\", \"LinearRegression\")\n",
      "\n",
      "\n",
      "        with open(\"models/preprocessor.b\", \"wb\") as f_out:\n",
      "            pickle.dump(dv, f_out)\n",
      "        mlflow.log_artifact(\"models/preprocessor.b\", artifact_path=\"preprocessor\")\n",
      "\n",
      "        mlflow.sklearn.log_model(lr, artifact_path=\"models_mlflow\")\n",
      "\n",
      "\n",
      "        return run.info.run_id\n",
      "\n",
      "@flow\n",
      "def run(year, month):\n",
      "    df_train = read_dataframe(year=year, month=month)\n",
      "\n",
      "    next_year = year if month < 12 else year + 1\n",
      "    next_month = month + 1 if month < 12 else 1\n",
      "    df_val = read_dataframe(year=next_year, month=next_month)\n",
      "\n",
      "    X_train, dv = create_X(df_train)\n",
      "    X_val, _ = create_X(df_val, dv)\n",
      "\n",
      "    target = 'duration'\n",
      "    y_train = df_train[target].values\n",
      "    y_val = df_val[target].values\n",
      "\n",
      "    run_id = train_model(X_train, y_train, X_val, y_val, dv)\n",
      "    print(f\"MLflow run_id: {run_id}\")\n",
      "    return run_id\n",
      "\n",
      "\n",
      "if __name__ == \"__main__\":\n",
      "    import argparse\n",
      "\n",
      "    parser = argparse.ArgumentParser(description='Train a model to predict taxi trip duration.')\n",
      "    parser.add_argument('--year', type=int, required=True, help='Year of the data to train on')\n",
      "    parser.add_argument('--month', type=int, required=True, help='Month of the data to train on')\n",
      "    args = parser.parse_args()\n",
      "\n",
      "    run_id = run(year=args.year, month=args.month)\n",
      "\n",
      "    with open(\"run_id.txt\", \"w\") as f:\n",
      "        f.write(run_id)"
     ]
    }
   ],
   "source": [
    "!cat week3/duration_prediction.py"
   ]
  }
 ],
 "metadata": {
  "kernelspec": {
   "display_name": "mlops-zoomcamp",
   "language": "python",
   "name": "venv"
  },
  "language_info": {
   "codemirror_mode": {
    "name": "ipython",
    "version": 3
   },
   "file_extension": ".py",
   "mimetype": "text/x-python",
   "name": "python",
   "nbconvert_exporter": "python",
   "pygments_lexer": "ipython3",
   "version": "3.12.10"
  }
 },
 "nbformat": 4,
 "nbformat_minor": 5
}
